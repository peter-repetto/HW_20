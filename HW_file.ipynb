{
 "cells": [
  {
   "cell_type": "code",
   "execution_count": 45,
   "metadata": {},
   "outputs": [],
   "source": [
    "#Imports for Project\n",
    "import subprocess\n",
    "import json\n",
    "import os\n",
    "from dotenv import load_dotenv\n",
    "from web3 import Web3\n",
    "from web3.middleware import geth_poa_middleware\n",
    "from web3.gas_strategies.time_based import medium_gas_price_strategy\n",
    "from bit import wif_to_key, PrivateKeyTestnet\n",
    "from bit.network import NetworkAPI\n",
    "from eth_account import Account"
   ]
  },
  {
   "cell_type": "code",
   "execution_count": 46,
   "metadata": {},
   "outputs": [
    {
     "name": "stdout",
     "output_type": "stream",
     "text": [
      "94\n"
     ]
    }
   ],
   "source": [
    "#Generating The Mnemonic\n",
    "mnemonic = os.getenv('MNEMONIC')\n",
    "print(len(mnemonic))"
   ]
  },
  {
   "cell_type": "code",
   "execution_count": 47,
   "metadata": {},
   "outputs": [],
   "source": [
    "# Create Coins\n",
    "class coin:\n",
    "    BTC = 'btc'\n",
    "    ETH = 'eth'\n",
    "    BTCTEST = 'btc-test'"
   ]
  },
  {
   "cell_type": "code",
   "execution_count": 48,
   "metadata": {},
   "outputs": [],
   "source": [
    "#Deriving the wallet keys\n",
    "def derive_wallets (mnemonic,coin,number):\n",
    "    #Calling the wallet\n",
    "    command = f'php ./hd-wallet-derive/hd-wallet-derive.php --cols=address,index,path,privkey,pubkey,pubkeyhash,xprv,xpub --mnemonic=\"{mnemonic}\" -g --numderive=\"{number}\" --coin=\"{coin}\" --format=json'\n",
    "    p = subprocess.Popen(command, stdout=subprocess.PIPE, shell=True)\n",
    "    #Reading Output or Error\n",
    "    (output, err) =p.communicate()\n",
    "    #This will allow you to wait as it closes the childprocess \n",
    "    p_status = p.wait()\n",
    "    #Setting your keys\n",
    "    keys = json.loads(output)\n",
    "    return keys"
   ]
  },
  {
   "cell_type": "code",
   "execution_count": 49,
   "metadata": {},
   "outputs": [],
   "source": [
    "# Output Ether\n",
    "derive_wallets(mnemonic,ETH,3)"
   ]
  },
  {
   "cell_type": "code",
   "execution_count": 50,
   "metadata": {},
   "outputs": [],
   "source": [
    "#Output Bitcoin\n",
    "derive_wallets(mnemonic, BTC, 3)"
   ]
  },
  {
   "cell_type": "code",
   "execution_count": 51,
   "metadata": {},
   "outputs": [],
   "source": [
    "#Output BTC Testnet\n",
    "derive_wallets(mnemonic, BTCTEST,3)"
   ]
  },
  {
   "cell_type": "code",
   "execution_count": 52,
   "metadata": {},
   "outputs": [],
   "source": [
    "# Defining the private key for the account\n",
    "def priv_key_to_account (coin, priv_key):\n",
    "    if coin == ETH:\n",
    "        return Account.privateKeyToAccount(priv_key)\n",
    "    else:\n",
    "        return PrivateKeyTestnet(priv_key)"
   ]
  },
  {
   "cell_type": "code",
   "execution_count": 53,
   "metadata": {},
   "outputs": [],
   "source": [
    "#Loading W3\n",
    "w3 = Web3(Web3.HTTPProvider(\"http://127.0.0.1:8545\"))"
   ]
  },
  {
   "cell_type": "code",
   "execution_count": 54,
   "metadata": {},
   "outputs": [],
   "source": [
    "#Defining Keys \n",
    "key = {'eth':derive_wallets(ETH,mnemonic,3),'btc-test': derive_wallets(BTCTEST,mnemonic,3)}\n",
    "\n",
    "#Accessing the ETH and BTC Accounts with the Private Keys  \n",
    "eth_key = key['eth'][0]['privkey']\n",
    "btc_key = key['btc-test'][0]['privkey']"
   ]
  },
  {
   "cell_type": "code",
   "execution_count": 55,
   "metadata": {},
   "outputs": [],
   "source": [
    "#Accessing the ETH and BTC Accounts \n",
    "eth_account = priv_key_to_account(ETH, eth_privkey)\n",
    "btc_account = priv_key_to_account(BTCTEST, btc_privkey)"
   ]
  },
  {
   "cell_type": "code",
   "execution_count": 56,
   "metadata": {},
   "outputs": [],
   "source": [
    "#Defining Create Tokens \n",
    "def create_tx(coin, account, to, amount):\n",
    "    if coin == ETH:\n",
    "        gasEstimate = w3.eth.estimateGas(\n",
    "        {\"from\": eth_account.address, \"to\": to, \"value\": amount}\n",
    "    )\n",
    "        return {\n",
    "            \"from\": eth_account.address,\n",
    "            \"to\": to,\n",
    "            \"value\": amount,\n",
    "            \"gasPrice\": w3.eth.gasPrice,\n",
    "            \"gas\": gasEstimate,\n",
    "            \"nonce\": w3.eth.getTransactionCount(account.address),\n",
    "            \n",
    "    }\n",
    "    if coin == BTCTEST:\n",
    "        return PrivateKeyTestnet.prepare_transaction(btc_account.address, [(to, amount, BTC)])"
   ]
  },
  {
   "cell_type": "code",
   "execution_count": 57,
   "metadata": {},
   "outputs": [],
   "source": [
    "#Defining Send Tokens \n",
    "def send_tx(coin,account, recipient, amount):\n",
    "    tkns = create_tx(coin,account,recipient,amount)\n",
    "    \n",
    "    if coin == ETH:\n",
    "        signed_tkns = eth_account.sign_transaction(tkns)\n",
    "        result = w3.eth.sendRawTransaction(signed_tkns.rawTransaction)\n",
    "        return result.hex()\n",
    "    elif coin == BTCTEST:\n",
    "        signed_tkns = btc_account.sign_transaction(tkns)\n",
    "        return NetworkAPI.broadcast_tx_testnet(signed_tkns)"
   ]
  },
  {
   "cell_type": "code",
   "execution_count": 58,
   "metadata": {},
   "outputs": [],
   "source": [
    "#Create ETH Tokens \n",
    "create_tx('ETH',eth_account,'0x722e8728D4eC8727Cad86bdA19241E3A1Dc85263',10)"
   ]
  },
  {
   "cell_type": "code",
   "execution_count": 59,
   "metadata": {},
   "outputs": [],
   "source": [
    "#Sending ETH Tokens \n",
    "send_tx('ETH',eth_account,'0x722e8728D4eC8727Cad86bdA19241E3A1Dc85263', 10)"
   ]
  },
  {
   "cell_type": "code",
   "execution_count": 60,
   "metadata": {},
   "outputs": [],
   "source": [
    "#Sending BTCTest Tokens \n",
    "send_tx(BTCTEST,btc_account,'n3sLNvyxBmCgddERiGDkedbhS55cow3n3T',.0001)"
   ]
  },
  {
   "cell_type": "code",
   "execution_count": null,
   "metadata": {},
   "outputs": [],
   "source": []
  }
 ],
 "metadata": {
  "kernelspec": {
   "display_name": "Python 3",
   "language": "python",
   "name": "python3"
  },
  "language_info": {
   "codemirror_mode": {
    "name": "ipython",
    "version": 3
   },
   "file_extension": ".py",
   "mimetype": "text/x-python",
   "name": "python",
   "nbconvert_exporter": "python",
   "pygments_lexer": "ipython3",
   "version": "3.7.4"
  }
 },
 "nbformat": 4,
 "nbformat_minor": 4
}
